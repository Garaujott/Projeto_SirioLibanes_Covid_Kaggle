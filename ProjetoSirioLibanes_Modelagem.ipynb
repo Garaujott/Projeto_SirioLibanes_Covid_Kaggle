{
  "nbformat": 4,
  "nbformat_minor": 0,
  "metadata": {
    "colab": {
      "name": "ProjetoSirioLibanes_Modelagem.ipynb",
      "provenance": [],
      "authorship_tag": "ABX9TyNjbw2s0GBOvb5n2CS60r+S",
      "include_colab_link": true
    },
    "kernelspec": {
      "name": "python3",
      "display_name": "Python 3"
    },
    "language_info": {
      "name": "python"
    }
  },
  "cells": [
    {
      "cell_type": "markdown",
      "metadata": {
        "id": "view-in-github",
        "colab_type": "text"
      },
      "source": [
        "<a href=\"https://colab.research.google.com/github/Garaujott/Projeto_SirioLibanes_Covid_Kaggle/blob/main/ProjetoSirioLibanes_Modelagem.ipynb\" target=\"_parent\"><img src=\"https://colab.research.google.com/assets/colab-badge.svg\" alt=\"Open In Colab\"/></a>"
      ]
    },
    {
      "cell_type": "markdown",
      "source": [
        "# Preparação do Ambiente e Observações"
      ],
      "metadata": {
        "id": "qXHLPkRbQr0g"
      }
    },
    {
      "cell_type": "code",
      "source": [
        "import matplotlib.pyplot as plt\n",
        "import numpy as np\n",
        "import pandas as pd\n",
        "import time\n",
        "\n",
        "from sklearn.dummy import DummyClassifier\n",
        "from sklearn.ensemble import RandomForestClassifier\n",
        "from sklearn.linear_model import LogisticRegression\n",
        "from sklearn.metrics import accuracy_score\n",
        "from sklearn.metrics import classification_report\n",
        "from sklearn.metrics import ConfusionMatrixDisplay\n",
        "from sklearn.metrics import roc_auc_score\n",
        "from sklearn.model_selection import cross_validate\n",
        "from sklearn.model_selection import RepeatedStratifiedKFold\n",
        "from sklearn.model_selection import StratifiedKFold\n",
        "from sklearn.model_selection import train_test_split\n",
        "from sklearn.tree import DecisionTreeClassifier"
      ],
      "metadata": {
        "id": "Xqcg4pGRnQOp"
      },
      "execution_count": 40,
      "outputs": []
    },
    {
      "cell_type": "markdown",
      "source": [
        "# Objetivos e critérios de avaliação"
      ],
      "metadata": {
        "id": "vsz_dOXJ4oPR"
      }
    },
    {
      "cell_type": "markdown",
      "source": [
        "Como queremos prever corretamente o máximo de pessoas que precisarão ser internadas, a medida de avaliação mais importante nesse contexto é o Recall, já que essa medida nos dá dimensão de quantos positivos foram corretamente classificados. No nosso contexto, essa medida nos retorna quantos d"
      ],
      "metadata": {
        "id": "Rh5HVfM35Pmm"
      }
    },
    {
      "cell_type": "markdown",
      "source": [
        "# Modelagem"
      ],
      "metadata": {
        "id": "HEBRWrd-nOYi"
      }
    },
    {
      "cell_type": "markdown",
      "source": [
        "Retomando os dados resultantes do [notebook anterior](https://github.com/Garaujott/Projeto_SirioLibanes_Covid_Kaggle/blob/main/ProjetoSirioLibanes_PreparacaoDados.ipynb), em que preparamos os dados:\n",
        "\n",
        "([Página da base no Kaggle](https://www.kaggle.com/S%C3%ADrio-Libanes/covid19))"
      ],
      "metadata": {
        "id": "k3zVDabxiHmP"
      }
    },
    {
      "cell_type": "code",
      "execution_count": 14,
      "metadata": {
        "id": "C-_2EAYknOYj",
        "colab": {
          "base_uri": "https://localhost:8080/",
          "height": 334
        },
        "outputId": "7c0d0a61-f1a7-43df-df1f-af814d9dd57d"
      },
      "outputs": [
        {
          "output_type": "execute_result",
          "data": {
            "text/html": [
              "\n",
              "  <div id=\"df-9a6e67d3-0089-4d29-a1be-918f1e1ec39b\">\n",
              "    <div class=\"colab-df-container\">\n",
              "      <div>\n",
              "<style scoped>\n",
              "    .dataframe tbody tr th:only-of-type {\n",
              "        vertical-align: middle;\n",
              "    }\n",
              "\n",
              "    .dataframe tbody tr th {\n",
              "        vertical-align: top;\n",
              "    }\n",
              "\n",
              "    .dataframe thead th {\n",
              "        text-align: right;\n",
              "    }\n",
              "</style>\n",
              "<table border=\"1\" class=\"dataframe\">\n",
              "  <thead>\n",
              "    <tr style=\"text-align: right;\">\n",
              "      <th></th>\n",
              "      <th>PATIENT_VISIT_IDENTIFIER</th>\n",
              "      <th>AGE_ABOVE65</th>\n",
              "      <th>AGE_PERCENTIL</th>\n",
              "      <th>GENDER</th>\n",
              "      <th>DISEASE GROUPING 1</th>\n",
              "      <th>DISEASE GROUPING 2</th>\n",
              "      <th>DISEASE GROUPING 3</th>\n",
              "      <th>DISEASE GROUPING 4</th>\n",
              "      <th>DISEASE GROUPING 5</th>\n",
              "      <th>DISEASE GROUPING 6</th>\n",
              "      <th>HTN</th>\n",
              "      <th>IMMUNOCOMPROMISED</th>\n",
              "      <th>OTHER</th>\n",
              "      <th>ALBUMIN_MEDIAN</th>\n",
              "      <th>ALBUMIN_MEAN</th>\n",
              "      <th>ALBUMIN_MIN</th>\n",
              "      <th>ALBUMIN_MAX</th>\n",
              "      <th>ALBUMIN_DIFF</th>\n",
              "      <th>BE_ARTERIAL_MEDIAN</th>\n",
              "      <th>BE_ARTERIAL_MEAN</th>\n",
              "      <th>BE_ARTERIAL_MIN</th>\n",
              "      <th>BE_ARTERIAL_MAX</th>\n",
              "      <th>BE_ARTERIAL_DIFF</th>\n",
              "      <th>BE_VENOUS_MEDIAN</th>\n",
              "      <th>BE_VENOUS_MEAN</th>\n",
              "      <th>BE_VENOUS_MIN</th>\n",
              "      <th>BE_VENOUS_MAX</th>\n",
              "      <th>BE_VENOUS_DIFF</th>\n",
              "      <th>BIC_ARTERIAL_MEDIAN</th>\n",
              "      <th>BIC_ARTERIAL_MEAN</th>\n",
              "      <th>BIC_ARTERIAL_MIN</th>\n",
              "      <th>BIC_ARTERIAL_MAX</th>\n",
              "      <th>BIC_ARTERIAL_DIFF</th>\n",
              "      <th>BIC_VENOUS_MEDIAN</th>\n",
              "      <th>BIC_VENOUS_MEAN</th>\n",
              "      <th>BIC_VENOUS_MIN</th>\n",
              "      <th>BIC_VENOUS_MAX</th>\n",
              "      <th>BIC_VENOUS_DIFF</th>\n",
              "      <th>BILLIRUBIN_MEDIAN</th>\n",
              "      <th>BILLIRUBIN_MEAN</th>\n",
              "      <th>...</th>\n",
              "      <th>DIMER_MAX</th>\n",
              "      <th>DIMER_DIFF</th>\n",
              "      <th>BLOODPRESSURE_DIASTOLIC_MEAN</th>\n",
              "      <th>BLOODPRESSURE_SISTOLIC_MEAN</th>\n",
              "      <th>HEART_RATE_MEAN</th>\n",
              "      <th>RESPIRATORY_RATE_MEAN</th>\n",
              "      <th>TEMPERATURE_MEAN</th>\n",
              "      <th>OXYGEN_SATURATION_MEAN</th>\n",
              "      <th>BLOODPRESSURE_DIASTOLIC_MEDIAN</th>\n",
              "      <th>BLOODPRESSURE_SISTOLIC_MEDIAN</th>\n",
              "      <th>HEART_RATE_MEDIAN</th>\n",
              "      <th>RESPIRATORY_RATE_MEDIAN</th>\n",
              "      <th>TEMPERATURE_MEDIAN</th>\n",
              "      <th>OXYGEN_SATURATION_MEDIAN</th>\n",
              "      <th>BLOODPRESSURE_DIASTOLIC_MIN</th>\n",
              "      <th>BLOODPRESSURE_SISTOLIC_MIN</th>\n",
              "      <th>HEART_RATE_MIN</th>\n",
              "      <th>RESPIRATORY_RATE_MIN</th>\n",
              "      <th>TEMPERATURE_MIN</th>\n",
              "      <th>OXYGEN_SATURATION_MIN</th>\n",
              "      <th>BLOODPRESSURE_DIASTOLIC_MAX</th>\n",
              "      <th>BLOODPRESSURE_SISTOLIC_MAX</th>\n",
              "      <th>HEART_RATE_MAX</th>\n",
              "      <th>RESPIRATORY_RATE_MAX</th>\n",
              "      <th>TEMPERATURE_MAX</th>\n",
              "      <th>OXYGEN_SATURATION_MAX</th>\n",
              "      <th>BLOODPRESSURE_DIASTOLIC_DIFF</th>\n",
              "      <th>BLOODPRESSURE_SISTOLIC_DIFF</th>\n",
              "      <th>HEART_RATE_DIFF</th>\n",
              "      <th>RESPIRATORY_RATE_DIFF</th>\n",
              "      <th>TEMPERATURE_DIFF</th>\n",
              "      <th>OXYGEN_SATURATION_DIFF</th>\n",
              "      <th>BLOODPRESSURE_DIASTOLIC_DIFF_REL</th>\n",
              "      <th>BLOODPRESSURE_SISTOLIC_DIFF_REL</th>\n",
              "      <th>HEART_RATE_DIFF_REL</th>\n",
              "      <th>RESPIRATORY_RATE_DIFF_REL</th>\n",
              "      <th>TEMPERATURE_DIFF_REL</th>\n",
              "      <th>OXYGEN_SATURATION_DIFF_REL</th>\n",
              "      <th>WINDOW</th>\n",
              "      <th>ICU</th>\n",
              "    </tr>\n",
              "  </thead>\n",
              "  <tbody>\n",
              "    <tr>\n",
              "      <th>0</th>\n",
              "      <td>0</td>\n",
              "      <td>1</td>\n",
              "      <td>5</td>\n",
              "      <td>0</td>\n",
              "      <td>0.0</td>\n",
              "      <td>0.0</td>\n",
              "      <td>0.0</td>\n",
              "      <td>0.0</td>\n",
              "      <td>1.0</td>\n",
              "      <td>1.0</td>\n",
              "      <td>0.0</td>\n",
              "      <td>0.0</td>\n",
              "      <td>1.0</td>\n",
              "      <td>0.605263</td>\n",
              "      <td>0.605263</td>\n",
              "      <td>0.605263</td>\n",
              "      <td>0.605263</td>\n",
              "      <td>-1.0</td>\n",
              "      <td>-1.0</td>\n",
              "      <td>-1.0</td>\n",
              "      <td>-1.0</td>\n",
              "      <td>-1.0</td>\n",
              "      <td>-1.0</td>\n",
              "      <td>-1.0</td>\n",
              "      <td>-1.0</td>\n",
              "      <td>-1.0</td>\n",
              "      <td>-1.0</td>\n",
              "      <td>-1.0</td>\n",
              "      <td>-0.317073</td>\n",
              "      <td>-0.317073</td>\n",
              "      <td>-0.317073</td>\n",
              "      <td>-0.317073</td>\n",
              "      <td>-1.0</td>\n",
              "      <td>-0.317073</td>\n",
              "      <td>-0.317073</td>\n",
              "      <td>-0.317073</td>\n",
              "      <td>-0.317073</td>\n",
              "      <td>-1.0</td>\n",
              "      <td>-0.938950</td>\n",
              "      <td>-0.938950</td>\n",
              "      <td>...</td>\n",
              "      <td>-0.994912</td>\n",
              "      <td>-1.0</td>\n",
              "      <td>0.086420</td>\n",
              "      <td>-0.230769</td>\n",
              "      <td>-0.283019</td>\n",
              "      <td>-0.593220</td>\n",
              "      <td>-0.285714</td>\n",
              "      <td>0.736842</td>\n",
              "      <td>0.086420</td>\n",
              "      <td>-0.230769</td>\n",
              "      <td>-0.283019</td>\n",
              "      <td>-0.586207</td>\n",
              "      <td>-0.285714</td>\n",
              "      <td>0.736842</td>\n",
              "      <td>0.237113</td>\n",
              "      <td>0.0000</td>\n",
              "      <td>-0.162393</td>\n",
              "      <td>-0.500000</td>\n",
              "      <td>0.208791</td>\n",
              "      <td>0.898990</td>\n",
              "      <td>-0.247863</td>\n",
              "      <td>-0.459459</td>\n",
              "      <td>-0.432836</td>\n",
              "      <td>-0.636364</td>\n",
              "      <td>-0.420290</td>\n",
              "      <td>0.736842</td>\n",
              "      <td>-1.000000</td>\n",
              "      <td>-1.000000</td>\n",
              "      <td>-1.000000</td>\n",
              "      <td>-1.000000</td>\n",
              "      <td>-1.000000</td>\n",
              "      <td>-1.000000</td>\n",
              "      <td>-1.000000</td>\n",
              "      <td>-1.000000</td>\n",
              "      <td>-1.000000</td>\n",
              "      <td>-1.000000</td>\n",
              "      <td>-1.000000</td>\n",
              "      <td>-1.000000</td>\n",
              "      <td>0-2</td>\n",
              "      <td>1</td>\n",
              "    </tr>\n",
              "    <tr>\n",
              "      <th>1</th>\n",
              "      <td>2</td>\n",
              "      <td>0</td>\n",
              "      <td>0</td>\n",
              "      <td>0</td>\n",
              "      <td>0.0</td>\n",
              "      <td>0.0</td>\n",
              "      <td>0.0</td>\n",
              "      <td>0.0</td>\n",
              "      <td>0.0</td>\n",
              "      <td>0.0</td>\n",
              "      <td>0.0</td>\n",
              "      <td>0.0</td>\n",
              "      <td>1.0</td>\n",
              "      <td>0.605263</td>\n",
              "      <td>0.605263</td>\n",
              "      <td>0.605263</td>\n",
              "      <td>0.605263</td>\n",
              "      <td>-1.0</td>\n",
              "      <td>-1.0</td>\n",
              "      <td>-1.0</td>\n",
              "      <td>-1.0</td>\n",
              "      <td>-1.0</td>\n",
              "      <td>-1.0</td>\n",
              "      <td>-1.0</td>\n",
              "      <td>-1.0</td>\n",
              "      <td>-1.0</td>\n",
              "      <td>-1.0</td>\n",
              "      <td>-1.0</td>\n",
              "      <td>-0.317073</td>\n",
              "      <td>-0.317073</td>\n",
              "      <td>-0.317073</td>\n",
              "      <td>-0.317073</td>\n",
              "      <td>-1.0</td>\n",
              "      <td>-0.317073</td>\n",
              "      <td>-0.317073</td>\n",
              "      <td>-0.317073</td>\n",
              "      <td>-0.317073</td>\n",
              "      <td>-1.0</td>\n",
              "      <td>-0.938950</td>\n",
              "      <td>-0.938950</td>\n",
              "      <td>...</td>\n",
              "      <td>-0.978029</td>\n",
              "      <td>-1.0</td>\n",
              "      <td>-0.489712</td>\n",
              "      <td>-0.685470</td>\n",
              "      <td>-0.048218</td>\n",
              "      <td>-0.645951</td>\n",
              "      <td>0.357143</td>\n",
              "      <td>0.935673</td>\n",
              "      <td>-0.506173</td>\n",
              "      <td>-0.815385</td>\n",
              "      <td>-0.056604</td>\n",
              "      <td>-0.517241</td>\n",
              "      <td>0.357143</td>\n",
              "      <td>0.947368</td>\n",
              "      <td>-0.525773</td>\n",
              "      <td>-0.5125</td>\n",
              "      <td>-0.111111</td>\n",
              "      <td>-0.714286</td>\n",
              "      <td>0.604396</td>\n",
              "      <td>0.959596</td>\n",
              "      <td>-0.435897</td>\n",
              "      <td>-0.491892</td>\n",
              "      <td>0.000000</td>\n",
              "      <td>-0.575758</td>\n",
              "      <td>0.101449</td>\n",
              "      <td>1.000000</td>\n",
              "      <td>-0.547826</td>\n",
              "      <td>-0.533742</td>\n",
              "      <td>-0.603053</td>\n",
              "      <td>-0.764706</td>\n",
              "      <td>-1.000000</td>\n",
              "      <td>-0.959596</td>\n",
              "      <td>-0.515528</td>\n",
              "      <td>-0.351328</td>\n",
              "      <td>-0.747001</td>\n",
              "      <td>-0.756272</td>\n",
              "      <td>-1.000000</td>\n",
              "      <td>-0.961262</td>\n",
              "      <td>0-2</td>\n",
              "      <td>1</td>\n",
              "    </tr>\n",
              "    <tr>\n",
              "      <th>2</th>\n",
              "      <td>3</td>\n",
              "      <td>0</td>\n",
              "      <td>3</td>\n",
              "      <td>1</td>\n",
              "      <td>0.0</td>\n",
              "      <td>0.0</td>\n",
              "      <td>0.0</td>\n",
              "      <td>0.0</td>\n",
              "      <td>0.0</td>\n",
              "      <td>0.0</td>\n",
              "      <td>0.0</td>\n",
              "      <td>1.0</td>\n",
              "      <td>1.0</td>\n",
              "      <td>-0.263158</td>\n",
              "      <td>-0.263158</td>\n",
              "      <td>-0.263158</td>\n",
              "      <td>-0.263158</td>\n",
              "      <td>-1.0</td>\n",
              "      <td>-1.0</td>\n",
              "      <td>-1.0</td>\n",
              "      <td>-1.0</td>\n",
              "      <td>-1.0</td>\n",
              "      <td>-1.0</td>\n",
              "      <td>-1.0</td>\n",
              "      <td>-1.0</td>\n",
              "      <td>-1.0</td>\n",
              "      <td>-1.0</td>\n",
              "      <td>-1.0</td>\n",
              "      <td>-0.317073</td>\n",
              "      <td>-0.317073</td>\n",
              "      <td>-0.317073</td>\n",
              "      <td>-0.317073</td>\n",
              "      <td>-1.0</td>\n",
              "      <td>-0.317073</td>\n",
              "      <td>-0.317073</td>\n",
              "      <td>-0.317073</td>\n",
              "      <td>-0.317073</td>\n",
              "      <td>-1.0</td>\n",
              "      <td>-0.972789</td>\n",
              "      <td>-0.972789</td>\n",
              "      <td>...</td>\n",
              "      <td>-0.978029</td>\n",
              "      <td>-1.0</td>\n",
              "      <td>0.012346</td>\n",
              "      <td>-0.369231</td>\n",
              "      <td>-0.528302</td>\n",
              "      <td>-0.457627</td>\n",
              "      <td>-0.285714</td>\n",
              "      <td>0.684211</td>\n",
              "      <td>0.012346</td>\n",
              "      <td>-0.369231</td>\n",
              "      <td>-0.528302</td>\n",
              "      <td>-0.448276</td>\n",
              "      <td>-0.285714</td>\n",
              "      <td>0.684211</td>\n",
              "      <td>0.175258</td>\n",
              "      <td>-0.1125</td>\n",
              "      <td>-0.384615</td>\n",
              "      <td>-0.357143</td>\n",
              "      <td>0.208791</td>\n",
              "      <td>0.878788</td>\n",
              "      <td>-0.299145</td>\n",
              "      <td>-0.556757</td>\n",
              "      <td>-0.626866</td>\n",
              "      <td>-0.515152</td>\n",
              "      <td>-0.420290</td>\n",
              "      <td>0.684211</td>\n",
              "      <td>-1.000000</td>\n",
              "      <td>-1.000000</td>\n",
              "      <td>-1.000000</td>\n",
              "      <td>-1.000000</td>\n",
              "      <td>-1.000000</td>\n",
              "      <td>-1.000000</td>\n",
              "      <td>-1.000000</td>\n",
              "      <td>-1.000000</td>\n",
              "      <td>-1.000000</td>\n",
              "      <td>-1.000000</td>\n",
              "      <td>-1.000000</td>\n",
              "      <td>-1.000000</td>\n",
              "      <td>0-2</td>\n",
              "      <td>0</td>\n",
              "    </tr>\n",
              "    <tr>\n",
              "      <th>3</th>\n",
              "      <td>4</td>\n",
              "      <td>0</td>\n",
              "      <td>0</td>\n",
              "      <td>0</td>\n",
              "      <td>0.0</td>\n",
              "      <td>0.0</td>\n",
              "      <td>0.0</td>\n",
              "      <td>0.0</td>\n",
              "      <td>0.0</td>\n",
              "      <td>0.0</td>\n",
              "      <td>0.0</td>\n",
              "      <td>0.0</td>\n",
              "      <td>1.0</td>\n",
              "      <td>0.605263</td>\n",
              "      <td>0.605263</td>\n",
              "      <td>0.605263</td>\n",
              "      <td>0.605263</td>\n",
              "      <td>-1.0</td>\n",
              "      <td>-1.0</td>\n",
              "      <td>-1.0</td>\n",
              "      <td>-1.0</td>\n",
              "      <td>-1.0</td>\n",
              "      <td>-1.0</td>\n",
              "      <td>-1.0</td>\n",
              "      <td>-1.0</td>\n",
              "      <td>-1.0</td>\n",
              "      <td>-1.0</td>\n",
              "      <td>-1.0</td>\n",
              "      <td>-0.317073</td>\n",
              "      <td>-0.317073</td>\n",
              "      <td>-0.317073</td>\n",
              "      <td>-0.317073</td>\n",
              "      <td>-1.0</td>\n",
              "      <td>-0.317073</td>\n",
              "      <td>-0.317073</td>\n",
              "      <td>-0.317073</td>\n",
              "      <td>-0.317073</td>\n",
              "      <td>-1.0</td>\n",
              "      <td>-0.935113</td>\n",
              "      <td>-0.935113</td>\n",
              "      <td>...</td>\n",
              "      <td>-1.000000</td>\n",
              "      <td>-1.0</td>\n",
              "      <td>0.333333</td>\n",
              "      <td>-0.153846</td>\n",
              "      <td>0.160377</td>\n",
              "      <td>-0.593220</td>\n",
              "      <td>0.285714</td>\n",
              "      <td>0.868421</td>\n",
              "      <td>0.333333</td>\n",
              "      <td>-0.153846</td>\n",
              "      <td>0.160377</td>\n",
              "      <td>-0.586207</td>\n",
              "      <td>0.285714</td>\n",
              "      <td>0.868421</td>\n",
              "      <td>0.443299</td>\n",
              "      <td>0.0000</td>\n",
              "      <td>0.196581</td>\n",
              "      <td>-0.571429</td>\n",
              "      <td>0.538462</td>\n",
              "      <td>0.939394</td>\n",
              "      <td>-0.076923</td>\n",
              "      <td>-0.351351</td>\n",
              "      <td>-0.044776</td>\n",
              "      <td>-0.575758</td>\n",
              "      <td>0.072464</td>\n",
              "      <td>0.894737</td>\n",
              "      <td>-1.000000</td>\n",
              "      <td>-0.877301</td>\n",
              "      <td>-0.923664</td>\n",
              "      <td>-0.882353</td>\n",
              "      <td>-0.952381</td>\n",
              "      <td>-0.979798</td>\n",
              "      <td>-1.000000</td>\n",
              "      <td>-0.883669</td>\n",
              "      <td>-0.956805</td>\n",
              "      <td>-0.870968</td>\n",
              "      <td>-0.953536</td>\n",
              "      <td>-0.980333</td>\n",
              "      <td>0-2</td>\n",
              "      <td>0</td>\n",
              "    </tr>\n",
              "    <tr>\n",
              "      <th>4</th>\n",
              "      <td>5</td>\n",
              "      <td>0</td>\n",
              "      <td>0</td>\n",
              "      <td>0</td>\n",
              "      <td>0.0</td>\n",
              "      <td>0.0</td>\n",
              "      <td>0.0</td>\n",
              "      <td>0.0</td>\n",
              "      <td>0.0</td>\n",
              "      <td>0.0</td>\n",
              "      <td>0.0</td>\n",
              "      <td>0.0</td>\n",
              "      <td>1.0</td>\n",
              "      <td>0.605263</td>\n",
              "      <td>0.605263</td>\n",
              "      <td>0.605263</td>\n",
              "      <td>0.605263</td>\n",
              "      <td>-1.0</td>\n",
              "      <td>-1.0</td>\n",
              "      <td>-1.0</td>\n",
              "      <td>-1.0</td>\n",
              "      <td>-1.0</td>\n",
              "      <td>-1.0</td>\n",
              "      <td>-1.0</td>\n",
              "      <td>-1.0</td>\n",
              "      <td>-1.0</td>\n",
              "      <td>-1.0</td>\n",
              "      <td>-1.0</td>\n",
              "      <td>-0.317073</td>\n",
              "      <td>-0.317073</td>\n",
              "      <td>-0.317073</td>\n",
              "      <td>-0.317073</td>\n",
              "      <td>-1.0</td>\n",
              "      <td>-0.317073</td>\n",
              "      <td>-0.317073</td>\n",
              "      <td>-0.317073</td>\n",
              "      <td>-0.317073</td>\n",
              "      <td>-1.0</td>\n",
              "      <td>-0.938950</td>\n",
              "      <td>-0.938950</td>\n",
              "      <td>...</td>\n",
              "      <td>-1.000000</td>\n",
              "      <td>-1.0</td>\n",
              "      <td>-0.037037</td>\n",
              "      <td>-0.538462</td>\n",
              "      <td>-0.537736</td>\n",
              "      <td>-0.525424</td>\n",
              "      <td>-0.196429</td>\n",
              "      <td>0.815789</td>\n",
              "      <td>-0.037037</td>\n",
              "      <td>-0.538462</td>\n",
              "      <td>-0.537736</td>\n",
              "      <td>-0.517241</td>\n",
              "      <td>-0.196429</td>\n",
              "      <td>0.815789</td>\n",
              "      <td>0.030928</td>\n",
              "      <td>-0.3750</td>\n",
              "      <td>-0.401709</td>\n",
              "      <td>-0.428571</td>\n",
              "      <td>0.252747</td>\n",
              "      <td>0.919192</td>\n",
              "      <td>-0.247863</td>\n",
              "      <td>-0.567568</td>\n",
              "      <td>-0.626866</td>\n",
              "      <td>-0.575758</td>\n",
              "      <td>-0.333333</td>\n",
              "      <td>0.842105</td>\n",
              "      <td>-0.826087</td>\n",
              "      <td>-0.754601</td>\n",
              "      <td>-0.984733</td>\n",
              "      <td>-1.000000</td>\n",
              "      <td>-0.976190</td>\n",
              "      <td>-0.979798</td>\n",
              "      <td>-0.860870</td>\n",
              "      <td>-0.714460</td>\n",
              "      <td>-0.986481</td>\n",
              "      <td>-1.000000</td>\n",
              "      <td>-0.975891</td>\n",
              "      <td>-0.980129</td>\n",
              "      <td>0-2</td>\n",
              "      <td>0</td>\n",
              "    </tr>\n",
              "  </tbody>\n",
              "</table>\n",
              "<p>5 rows × 231 columns</p>\n",
              "</div>\n",
              "      <button class=\"colab-df-convert\" onclick=\"convertToInteractive('df-9a6e67d3-0089-4d29-a1be-918f1e1ec39b')\"\n",
              "              title=\"Convert this dataframe to an interactive table.\"\n",
              "              style=\"display:none;\">\n",
              "        \n",
              "  <svg xmlns=\"http://www.w3.org/2000/svg\" height=\"24px\"viewBox=\"0 0 24 24\"\n",
              "       width=\"24px\">\n",
              "    <path d=\"M0 0h24v24H0V0z\" fill=\"none\"/>\n",
              "    <path d=\"M18.56 5.44l.94 2.06.94-2.06 2.06-.94-2.06-.94-.94-2.06-.94 2.06-2.06.94zm-11 1L8.5 8.5l.94-2.06 2.06-.94-2.06-.94L8.5 2.5l-.94 2.06-2.06.94zm10 10l.94 2.06.94-2.06 2.06-.94-2.06-.94-.94-2.06-.94 2.06-2.06.94z\"/><path d=\"M17.41 7.96l-1.37-1.37c-.4-.4-.92-.59-1.43-.59-.52 0-1.04.2-1.43.59L10.3 9.45l-7.72 7.72c-.78.78-.78 2.05 0 2.83L4 21.41c.39.39.9.59 1.41.59.51 0 1.02-.2 1.41-.59l7.78-7.78 2.81-2.81c.8-.78.8-2.07 0-2.86zM5.41 20L4 18.59l7.72-7.72 1.47 1.35L5.41 20z\"/>\n",
              "  </svg>\n",
              "      </button>\n",
              "      \n",
              "  <style>\n",
              "    .colab-df-container {\n",
              "      display:flex;\n",
              "      flex-wrap:wrap;\n",
              "      gap: 12px;\n",
              "    }\n",
              "\n",
              "    .colab-df-convert {\n",
              "      background-color: #E8F0FE;\n",
              "      border: none;\n",
              "      border-radius: 50%;\n",
              "      cursor: pointer;\n",
              "      display: none;\n",
              "      fill: #1967D2;\n",
              "      height: 32px;\n",
              "      padding: 0 0 0 0;\n",
              "      width: 32px;\n",
              "    }\n",
              "\n",
              "    .colab-df-convert:hover {\n",
              "      background-color: #E2EBFA;\n",
              "      box-shadow: 0px 1px 2px rgba(60, 64, 67, 0.3), 0px 1px 3px 1px rgba(60, 64, 67, 0.15);\n",
              "      fill: #174EA6;\n",
              "    }\n",
              "\n",
              "    [theme=dark] .colab-df-convert {\n",
              "      background-color: #3B4455;\n",
              "      fill: #D2E3FC;\n",
              "    }\n",
              "\n",
              "    [theme=dark] .colab-df-convert:hover {\n",
              "      background-color: #434B5C;\n",
              "      box-shadow: 0px 1px 3px 1px rgba(0, 0, 0, 0.15);\n",
              "      filter: drop-shadow(0px 1px 2px rgba(0, 0, 0, 0.3));\n",
              "      fill: #FFFFFF;\n",
              "    }\n",
              "  </style>\n",
              "\n",
              "      <script>\n",
              "        const buttonEl =\n",
              "          document.querySelector('#df-9a6e67d3-0089-4d29-a1be-918f1e1ec39b button.colab-df-convert');\n",
              "        buttonEl.style.display =\n",
              "          google.colab.kernel.accessAllowed ? 'block' : 'none';\n",
              "\n",
              "        async function convertToInteractive(key) {\n",
              "          const element = document.querySelector('#df-9a6e67d3-0089-4d29-a1be-918f1e1ec39b');\n",
              "          const dataTable =\n",
              "            await google.colab.kernel.invokeFunction('convertToInteractive',\n",
              "                                                     [key], {});\n",
              "          if (!dataTable) return;\n",
              "\n",
              "          const docLinkHtml = 'Like what you see? Visit the ' +\n",
              "            '<a target=\"_blank\" href=https://colab.research.google.com/notebooks/data_table.ipynb>data table notebook</a>'\n",
              "            + ' to learn more about interactive tables.';\n",
              "          element.innerHTML = '';\n",
              "          dataTable['output_type'] = 'display_data';\n",
              "          await google.colab.output.renderOutput(dataTable, element);\n",
              "          const docLink = document.createElement('div');\n",
              "          docLink.innerHTML = docLinkHtml;\n",
              "          element.appendChild(docLink);\n",
              "        }\n",
              "      </script>\n",
              "    </div>\n",
              "  </div>\n",
              "  "
            ],
            "text/plain": [
              "   PATIENT_VISIT_IDENTIFIER  AGE_ABOVE65  ...  WINDOW  ICU\n",
              "0                         0            1  ...     0-2    1\n",
              "1                         2            0  ...     0-2    1\n",
              "2                         3            0  ...     0-2    0\n",
              "3                         4            0  ...     0-2    0\n",
              "4                         5            0  ...     0-2    0\n",
              "\n",
              "[5 rows x 231 columns]"
            ]
          },
          "metadata": {},
          "execution_count": 14
        }
      ],
      "source": [
        "uri = 'https://github.com/Garaujott/Projeto_SirioLibanes_Covid_Kaggle/blob/main/dados/Sirio_ICU_cleaned.csv?raw=true'\n",
        "\n",
        "covid_limpo = pd.read_csv(uri)\n",
        "covid_limpo.head()"
      ]
    },
    {
      "cell_type": "markdown",
      "source": [
        "## Removendo dados correlacionados"
      ],
      "metadata": {
        "id": "6kmmEb-raYsc"
      }
    },
    {
      "cell_type": "markdown",
      "source": [
        "Antes da modelagem em si, faremos uma alteração final nos dados. Iremos criar uma função que irá excluir da modelagem variáveis que são muito correlacionadas entre si, depois aplicaremos essa função aos nossos dados e modelaremos a partir daí."
      ],
      "metadata": {
        "id": "nDiXKjktRnLh"
      }
    },
    {
      "cell_type": "code",
      "source": [
        "def remove_corr_feat(data, corr_limit = .95):\n",
        "  corr_matrix = data.iloc[:, 4: -2].corr().abs()\n",
        "  corr_matrix_lower = corr_matrix.where(np.tril(np.ones(corr_matrix.shape).astype('bool'), k = -1))\n",
        "\n",
        "  feat_to_delete = [column for column in corr_matrix_lower.columns if any(corr_matrix_lower[column] > corr_limit)]\n",
        "  cleaned_data = data.drop(feat_to_delete, axis = 1)\n",
        "  \n",
        "  return cleaned_data"
      ],
      "metadata": {
        "id": "0ei6u1HMRxGy"
      },
      "execution_count": 17,
      "outputs": []
    },
    {
      "cell_type": "code",
      "source": [
        "covid_limpo_sem_corr = remove_corr_feat(covid_limpo, corr_limit = .95)"
      ],
      "metadata": {
        "id": "hTSF7FmbRmgW"
      },
      "execution_count": 18,
      "outputs": []
    },
    {
      "cell_type": "markdown",
      "source": [
        "### Alternativa 1: Dummy e Regressão Logística"
      ],
      "metadata": {
        "id": "-3zlIo0H2By0"
      }
    },
    {
      "cell_type": "code",
      "source": [
        "model_logit = LogisticRegression(max_iter = 2500)"
      ],
      "metadata": {
        "id": "GE1BRSvybBcS"
      },
      "execution_count": 43,
      "outputs": []
    },
    {
      "cell_type": "markdown",
      "source": [
        "### Alternativa 2: Árvore de decisão"
      ],
      "metadata": {
        "id": "1bUtudj210e7"
      }
    },
    {
      "cell_type": "code",
      "source": [
        "model_tree = DecisionTreeClassifier()"
      ],
      "metadata": {
        "id": "RO-aZnrbbEkf"
      },
      "execution_count": 37,
      "outputs": []
    },
    {
      "cell_type": "markdown",
      "source": [
        "### Alternativa 3: Modelo de Random Forest"
      ],
      "metadata": {
        "id": "wPDB-k0E2IbD"
      }
    },
    {
      "cell_type": "code",
      "source": [
        "model_forest = RandomForestClassifier()"
      ],
      "metadata": {
        "id": "uzyGDI4wRhdu"
      },
      "execution_count": 22,
      "outputs": []
    },
    {
      "cell_type": "markdown",
      "source": [
        "## Definindo uma função básica para a modelagem"
      ],
      "metadata": {
        "id": "j4tEa7V8buJL"
      }
    },
    {
      "cell_type": "code",
      "source": [
        "def run_model(model, data):\n",
        "  # dividir dados\n",
        "  # train-test-split\n",
        "  # model.fit\n",
        "  # model.predict\n",
        "  # model.predict_proba\n",
        "  # roc_auc_score\n",
        "\n",
        "  x_columns = data.columns\n",
        "\n",
        "  x = data[x_columns].drop(['ICU', 'WINDOW'], axis = 1)\n",
        "  y = data['ICU']\n",
        "\n",
        "  ## fixando a seed para possibilitar reprodutibilidade e comparação entre modelos\n",
        "  SEED = 73246\n",
        "  np.random.seed(SEED)\n",
        "\n",
        "  x_train, x_test, y_train, y_test = train_test_split(x, y, stratify = y, test_size = .15)\n",
        "\n",
        "  # rodando o modelo\n",
        "  model.fit(x_train, y_train)\n",
        "  y_predicted = model.predict(x_test)\n",
        "  prob_predicted = model.predict_proba(x_test)\n",
        "\n",
        "  # verificando AUC\n",
        "  auc = roc_auc_score(y_test, prob_predicted[:,1])\n",
        "  \n",
        "  print(f'AUC: {auc}')\n",
        "  print('\\nClassification Report')\n",
        "  print(classification_report(y_test, y_predicted))\n",
        "  ConfusionMatrixDisplay.from_estimator(model, x_test, y_test)"
      ],
      "metadata": {
        "id": "gvtkaqhrbtv2"
      },
      "execution_count": 24,
      "outputs": []
    },
    {
      "cell_type": "markdown",
      "source": [
        "## Definindo uma função que conte com Cross-Validation"
      ],
      "metadata": {
        "id": "0Kf_2wwWRBhj"
      }
    },
    {
      "cell_type": "code",
      "source": [
        "def run_model_cv2(model, data, n_splits, n_repeats):\n",
        "  # contabilizando o tempo\n",
        "  t0 = time.perf_counter()\n",
        "\n",
        "  # garantindo reprodutibilidade\n",
        "  SEED = 361728\n",
        "  np.random.seed(SEED)\n",
        "\n",
        "  # como o RepeatedStratifiedKFold não aceita 'shuffle'\n",
        "  data = data.sample(frac = 1).reset_index(drop = True)\n",
        "\n",
        "  # divisão dos dados\n",
        "  x_columns = data.columns\n",
        "  x = data[x_columns].drop(['ICU', 'WINDOW'], axis = 1)\n",
        "  y = data['ICU']\n",
        "\n",
        "  # cross validation -> RepeatedStratifiedKFold\n",
        "  cv = RepeatedStratifiedKFold(n_splits = n_splits, n_repeats = n_repeats) # esse cv não aceita 'shuffle'\n",
        "  results = cross_validate(model, x, y, cv = cv, scoring = 'roc_auc', return_train_score =  True)\n",
        "\n",
        "  # contabilizando o tempo\n",
        "  t1 = time.perf_counter()\n",
        "  t_execucao = t1 - t0\n",
        "\n",
        "  auc_mean = np.mean(results['test_score'])\n",
        "  auc_train_mean = np.mean(results['train_score'])\n",
        "  auc_std = np.std(results['test_score'])\n",
        "\n",
        "  lower_inter = auc_mean - 2 * auc_std\n",
        "  upper_inter = auc_mean + 2 * auc_std\n",
        "\n",
        "  print(f'Número de Splits (CV): {n_splits}')\n",
        "  print(f'Número de Repeats (CV): {n_repeats}')\n",
        "  print(f'AUC Médio (Teste): {auc_mean}')\n",
        "  print(f'AUC Médio (Treino): {auc_train_mean}')\n",
        "  print(f'Desvio padrão do AUC: {auc_std}')\n",
        "  print(f'Tempo de execução total: {t_execucao:0.4f} segundos')\n",
        "  print(f'Intervalo de Confiança 95% do AUC: [{lower_inter}, {upper_inter}]')\n",
        "\n",
        "  print(f'AUC médio: ({auc_mean}, {auc_train_mean})') \n",
        "  #return auc_mean, auc_train_mean"
      ],
      "metadata": {
        "id": "FFZFi0wXRZPF"
      },
      "execution_count": 46,
      "outputs": []
    },
    {
      "cell_type": "markdown",
      "source": [
        "## Modelando..."
      ],
      "metadata": {
        "id": "E0k9oqJicJTq"
      }
    },
    {
      "cell_type": "code",
      "source": [
        "run_model(model_logit, covid_limpo_sem_corr)"
      ],
      "metadata": {
        "colab": {
          "base_uri": "https://localhost:8080/",
          "height": 491
        },
        "id": "f3vSJeVfcIWi",
        "outputId": "f0729efa-704a-4412-a53e-a9a360b755a7"
      },
      "execution_count": 44,
      "outputs": [
        {
          "output_type": "stream",
          "name": "stdout",
          "text": [
            "AUC: 0.6985714285714286\n",
            "\n",
            "Classification Report\n",
            "              precision    recall  f1-score   support\n",
            "\n",
            "           0       0.65      0.71      0.68        28\n",
            "           1       0.64      0.56      0.60        25\n",
            "\n",
            "    accuracy                           0.64        53\n",
            "   macro avg       0.64      0.64      0.64        53\n",
            "weighted avg       0.64      0.64      0.64        53\n",
            "\n"
          ]
        },
        {
          "output_type": "display_data",
          "data": {
            "image/png": "[encoded data removed]",
            "text/plain": [
              "<Figure size 432x288 with 2 Axes>"
            ]
          },
          "metadata": {
            "needs_background": "light"
          }
        }
      ]
    },
    {
      "cell_type": "code",
      "source": [
        "run_model(model_tree, covid_limpo_sem_corr)"
      ],
      "metadata": {
        "colab": {
          "base_uri": "https://localhost:8080/",
          "height": 491
        },
        "id": "mNFOqHMScQUF",
        "outputId": "b6396523-1934-4571-a929-884418da57c7"
      },
      "execution_count": 38,
      "outputs": [
        {
          "output_type": "stream",
          "name": "stdout",
          "text": [
            "AUC: 0.7392857142857143\n",
            "\n",
            "Classification Report\n",
            "              precision    recall  f1-score   support\n",
            "\n",
            "           0       0.79      0.68      0.73        28\n",
            "           1       0.69      0.80      0.74        25\n",
            "\n",
            "    accuracy                           0.74        53\n",
            "   macro avg       0.74      0.74      0.74        53\n",
            "weighted avg       0.74      0.74      0.74        53\n",
            "\n"
          ]
        },
        {
          "output_type": "display_data",
          "data": {
            "image/png": "[encoded data removed]",
            "text/plain": [
              "<Figure size 432x288 with 2 Axes>"
            ]
          },
          "metadata": {
            "needs_background": "light"
          }
        }
      ]
    },
    {
      "cell_type": "code",
      "source": [
        "run_model(model_forest, covid_limpo_sem_corr)"
      ],
      "metadata": {
        "colab": {
          "base_uri": "https://localhost:8080/",
          "height": 487
        },
        "id": "N3BIhPxeciYS",
        "outputId": "8d51903a-cb61-45e4-f54f-ba7392f07070"
      },
      "execution_count": 32,
      "outputs": [
        {
          "output_type": "stream",
          "name": "stdout",
          "text": [
            "AUC: 0.7321428571428571\n",
            "\n",
            "Classification Report\n",
            "              precision    recall  f1-score   support\n",
            "\n",
            "           0       0.70      0.75      0.72        28\n",
            "           1       0.70      0.64      0.67        25\n",
            "\n",
            "    accuracy                           0.70        53\n",
            "   macro avg       0.70      0.70      0.70        53\n",
            "weighted avg       0.70      0.70      0.70        53\n",
            "\n"
          ]
        },
        {
          "output_type": "display_data",
          "data": {
            "image/png": "[encoded data removed]",
            "text/plain": [
              "<Figure size 432x288 with 2 Axes>"
            ]
          },
          "metadata": {
            "needs_background": "light"
          }
        }
      ]
    },
    {
      "cell_type": "markdown",
      "source": [
        "## Aplicando validação cruzada aos modelos"
      ],
      "metadata": {
        "id": "uQ7U3daOdWvh"
      }
    },
    {
      "cell_type": "code",
      "source": [
        "run_model_cv2(model = model_logit, data = covid_limpo_sem_corr, n_splits = 5, n_repeats = 10)"
      ],
      "metadata": {
        "colab": {
          "base_uri": "https://localhost:8080/"
        },
        "id": "xF-Kbs_nda7X",
        "outputId": "660b2d2e-0140-477d-a40d-36a2dfbfabb0"
      },
      "execution_count": 47,
      "outputs": [
        {
          "output_type": "stream",
          "name": "stdout",
          "text": [
            "Número de Splits (CV): 5\n",
            "Número de Repeats (CV): 10\n",
            "AUC Médio (Teste): 0.7611605699599119\n",
            "AUC Médio (Treino): 0.8509720825120087\n",
            "Desvio padrão do AUC: 0.05713352667305539\n",
            "Tempo de execução total: 30.0429 segundos\n",
            "Intervalo de Confiança 95% do AUC: [0.6468935166138011, 0.8754276233060226]\n",
            "AUC médio: (0.7611605699599119, 0.8509720825120087)\n"
          ]
        }
      ]
    },
    {
      "cell_type": "code",
      "source": [
        "run_model_cv2(model = model_tree, data = covid_limpo_sem_corr, n_splits = 5, n_repeats = 10)"
      ],
      "metadata": {
        "colab": {
          "base_uri": "https://localhost:8080/"
        },
        "id": "2eLBlUDbdlsD",
        "outputId": "507b00ed-03d1-49ca-d3e8-cc0b62166a59"
      },
      "execution_count": 48,
      "outputs": [
        {
          "output_type": "stream",
          "name": "stdout",
          "text": [
            "Número de Splits (CV): 5\n",
            "Número de Repeats (CV): 10\n",
            "AUC Médio (Teste): 0.6376315924177766\n",
            "AUC Médio (Treino): 1.0\n",
            "Desvio padrão do AUC: 0.06444127425761342\n",
            "Tempo de execução total: 0.9365 segundos\n",
            "Intervalo de Confiança 95% do AUC: [0.5087490439025497, 0.7665141409330034]\n",
            "AUC médio: (0.6376315924177766, 1.0)\n"
          ]
        }
      ]
    },
    {
      "cell_type": "code",
      "source": [
        "run_model_cv2(model = model_forest, data = covid_limpo_sem_corr, n_splits = 5, n_repeats = 10)"
      ],
      "metadata": {
        "colab": {
          "base_uri": "https://localhost:8080/"
        },
        "id": "aGKhYOm4eBJD",
        "outputId": "f814fd8d-1485-4290-efe2-2ace70c46dab"
      },
      "execution_count": 49,
      "outputs": [
        {
          "output_type": "stream",
          "name": "stdout",
          "text": [
            "Número de Splits (CV): 5\n",
            "Número de Repeats (CV): 10\n",
            "AUC Médio (Teste): 0.7980023654036812\n",
            "AUC Médio (Treino): 1.0\n",
            "Desvio padrão do AUC: 0.048457678850552924\n",
            "Tempo de execução total: 11.4963 segundos\n",
            "Intervalo de Confiança 95% do AUC: [0.7010870077025754, 0.894917723104787]\n",
            "AUC médio: (0.7980023654036812, 1.0)\n"
          ]
        }
      ]
    }
  ]
}