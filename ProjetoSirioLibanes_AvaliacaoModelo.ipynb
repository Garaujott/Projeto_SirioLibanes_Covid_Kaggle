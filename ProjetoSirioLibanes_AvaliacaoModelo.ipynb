{
  "nbformat": 4,
  "nbformat_minor": 0,
  "metadata": {
    "colab": {
      "name": "ProjetoSirioLibanes_AvaliacaoModelo.ipynb",
      "provenance": [],
      "authorship_tag": "ABX9TyN6UD+gAjACCqfesjtSkbYY",
      "include_colab_link": true
    },
    "kernelspec": {
      "name": "python3",
      "display_name": "Python 3"
    },
    "language_info": {
      "name": "python"
    }
  },
  "cells": [
    {
      "cell_type": "markdown",
      "metadata": {
        "id": "view-in-github",
        "colab_type": "text"
      },
      "source": [
        "<a href=\"https://colab.research.google.com/github/Garaujott/Projeto_SirioLibanes_Covid_Kaggle/blob/main/ProjetoSirioLibanes_AvaliacaoModelo.ipynb\" target=\"_parent\"><img src=\"https://colab.research.google.com/assets/colab-badge.svg\" alt=\"Open In Colab\"/></a>"
      ]
    },
    {
      "cell_type": "markdown",
      "source": [
        "# Preparação do Ambiente e Observações"
      ],
      "metadata": {
        "id": "qXHLPkRbQr0g"
      }
    },
    {
      "cell_type": "code",
      "source": [
        "import matplotlib.pyplot as plt\n",
        "import numpy as np\n",
        "import pandas as pd\n",
        "import time\n",
        "\n",
        "from sklearn.dummy import DummyClassifier\n",
        "from sklearn.ensemble import RandomForestClassifier\n",
        "from sklearn.linear_model import LogisticRegression\n",
        "from sklearn.metrics import classification_report\n",
        "from sklearn.metrics import ConfusionMatrixDisplay\n",
        "from sklearn.metrics import roc_auc_score\n",
        "from sklearn.model_selection import cross_validate\n",
        "from sklearn.model_selection import RepeatedStratifiedKFold\n",
        "from sklearn.model_selection import StratifiedKFold\n",
        "from sklearn.model_selection import train_test_split\n",
        "from sklearn.tree import DecisionTreeClassifier"
      ],
      "metadata": {
        "id": "Xqcg4pGRnQOp"
      },
      "execution_count": 2,
      "outputs": []
    },
    {
      "cell_type": "markdown",
      "source": [
        "# Avaliação do Modelo"
      ],
      "metadata": {
        "id": "lJoJzQsUnv-L"
      }
    },
    {
      "cell_type": "markdown",
      "source": [
        "## Obtendo os dados"
      ],
      "metadata": {
        "id": "1rU5G_P5gh7E"
      }
    },
    {
      "cell_type": "markdown",
      "source": [
        "Retomando o melhor modelo encontrado no [notebook de modelagem](https://github.com/Garaujott/Projeto_SirioLibanes_Covid_Kaggle/blob/main/ProjetoSirioLibanes_Modelagem.ipynb):"
      ],
      "metadata": {
        "id": "NTDpVDWr2R-m"
      }
    },
    {
      "cell_type": "code",
      "source": [
        "uri = 'https://raw.githubusercontent.com/Garaujott/Projeto_SirioLibanes_Covid_Kaggle/main/dados/Sirio_ICU_cleaned_no_highcorr.csv'\n",
        "\n",
        "covid_limpo_sem_corr = pd.read_csv(uri)\n",
        "covid_limpo_sem_corr.head()"
      ],
      "metadata": {
        "id": "yaJmRpqdnyGK",
        "colab": {
          "base_uri": "https://localhost:8080/",
          "height": 334
        },
        "outputId": "176b5fa1-d90f-4080-c005-b2470fb8bce1"
      },
      "execution_count": 4,
      "outputs": [
        {
          "output_type": "execute_result",
          "data": {
            "text/html": [
              "\n",
              "  <div id=\"df-e51e2fb1-b392-46ca-b663-55c4ad11190a\">\n",
              "    <div class=\"colab-df-container\">\n",
              "      <div>\n",
              "<style scoped>\n",
              "    .dataframe tbody tr th:only-of-type {\n",
              "        vertical-align: middle;\n",
              "    }\n",
              "\n",
              "    .dataframe tbody tr th {\n",
              "        vertical-align: top;\n",
              "    }\n",
              "\n",
              "    .dataframe thead th {\n",
              "        text-align: right;\n",
              "    }\n",
              "</style>\n",
              "<table border=\"1\" class=\"dataframe\">\n",
              "  <thead>\n",
              "    <tr style=\"text-align: right;\">\n",
              "      <th></th>\n",
              "      <th>PATIENT_VISIT_IDENTIFIER</th>\n",
              "      <th>AGE_ABOVE65</th>\n",
              "      <th>AGE_PERCENTIL</th>\n",
              "      <th>GENDER</th>\n",
              "      <th>DISEASE GROUPING 1</th>\n",
              "      <th>DISEASE GROUPING 2</th>\n",
              "      <th>DISEASE GROUPING 3</th>\n",
              "      <th>DISEASE GROUPING 4</th>\n",
              "      <th>DISEASE GROUPING 5</th>\n",
              "      <th>DISEASE GROUPING 6</th>\n",
              "      <th>...</th>\n",
              "      <th>OXYGEN_SATURATION_MAX</th>\n",
              "      <th>HEART_RATE_DIFF</th>\n",
              "      <th>BLOODPRESSURE_DIASTOLIC_DIFF_REL</th>\n",
              "      <th>BLOODPRESSURE_SISTOLIC_DIFF_REL</th>\n",
              "      <th>HEART_RATE_DIFF_REL</th>\n",
              "      <th>RESPIRATORY_RATE_DIFF_REL</th>\n",
              "      <th>TEMPERATURE_DIFF_REL</th>\n",
              "      <th>OXYGEN_SATURATION_DIFF_REL</th>\n",
              "      <th>WINDOW</th>\n",
              "      <th>ICU</th>\n",
              "    </tr>\n",
              "  </thead>\n",
              "  <tbody>\n",
              "    <tr>\n",
              "      <th>0</th>\n",
              "      <td>0</td>\n",
              "      <td>1</td>\n",
              "      <td>5</td>\n",
              "      <td>0</td>\n",
              "      <td>0.0</td>\n",
              "      <td>0.0</td>\n",
              "      <td>0.0</td>\n",
              "      <td>0.0</td>\n",
              "      <td>1.0</td>\n",
              "      <td>1.0</td>\n",
              "      <td>...</td>\n",
              "      <td>0.736842</td>\n",
              "      <td>-1.000000</td>\n",
              "      <td>-1.000000</td>\n",
              "      <td>-1.000000</td>\n",
              "      <td>-1.000000</td>\n",
              "      <td>-1.000000</td>\n",
              "      <td>-1.000000</td>\n",
              "      <td>-1.000000</td>\n",
              "      <td>0-2</td>\n",
              "      <td>1</td>\n",
              "    </tr>\n",
              "    <tr>\n",
              "      <th>1</th>\n",
              "      <td>2</td>\n",
              "      <td>0</td>\n",
              "      <td>0</td>\n",
              "      <td>0</td>\n",
              "      <td>0.0</td>\n",
              "      <td>0.0</td>\n",
              "      <td>0.0</td>\n",
              "      <td>0.0</td>\n",
              "      <td>0.0</td>\n",
              "      <td>0.0</td>\n",
              "      <td>...</td>\n",
              "      <td>1.000000</td>\n",
              "      <td>-0.603053</td>\n",
              "      <td>-0.515528</td>\n",
              "      <td>-0.351328</td>\n",
              "      <td>-0.747001</td>\n",
              "      <td>-0.756272</td>\n",
              "      <td>-1.000000</td>\n",
              "      <td>-0.961262</td>\n",
              "      <td>0-2</td>\n",
              "      <td>1</td>\n",
              "    </tr>\n",
              "    <tr>\n",
              "      <th>2</th>\n",
              "      <td>3</td>\n",
              "      <td>0</td>\n",
              "      <td>3</td>\n",
              "      <td>1</td>\n",
              "      <td>0.0</td>\n",
              "      <td>0.0</td>\n",
              "      <td>0.0</td>\n",
              "      <td>0.0</td>\n",
              "      <td>0.0</td>\n",
              "      <td>0.0</td>\n",
              "      <td>...</td>\n",
              "      <td>0.684211</td>\n",
              "      <td>-1.000000</td>\n",
              "      <td>-1.000000</td>\n",
              "      <td>-1.000000</td>\n",
              "      <td>-1.000000</td>\n",
              "      <td>-1.000000</td>\n",
              "      <td>-1.000000</td>\n",
              "      <td>-1.000000</td>\n",
              "      <td>0-2</td>\n",
              "      <td>0</td>\n",
              "    </tr>\n",
              "    <tr>\n",
              "      <th>3</th>\n",
              "      <td>4</td>\n",
              "      <td>0</td>\n",
              "      <td>0</td>\n",
              "      <td>0</td>\n",
              "      <td>0.0</td>\n",
              "      <td>0.0</td>\n",
              "      <td>0.0</td>\n",
              "      <td>0.0</td>\n",
              "      <td>0.0</td>\n",
              "      <td>0.0</td>\n",
              "      <td>...</td>\n",
              "      <td>0.894737</td>\n",
              "      <td>-0.923664</td>\n",
              "      <td>-1.000000</td>\n",
              "      <td>-0.883669</td>\n",
              "      <td>-0.956805</td>\n",
              "      <td>-0.870968</td>\n",
              "      <td>-0.953536</td>\n",
              "      <td>-0.980333</td>\n",
              "      <td>0-2</td>\n",
              "      <td>0</td>\n",
              "    </tr>\n",
              "    <tr>\n",
              "      <th>4</th>\n",
              "      <td>5</td>\n",
              "      <td>0</td>\n",
              "      <td>0</td>\n",
              "      <td>0</td>\n",
              "      <td>0.0</td>\n",
              "      <td>0.0</td>\n",
              "      <td>0.0</td>\n",
              "      <td>0.0</td>\n",
              "      <td>0.0</td>\n",
              "      <td>0.0</td>\n",
              "      <td>...</td>\n",
              "      <td>0.842105</td>\n",
              "      <td>-0.984733</td>\n",
              "      <td>-0.860870</td>\n",
              "      <td>-0.714460</td>\n",
              "      <td>-0.986481</td>\n",
              "      <td>-1.000000</td>\n",
              "      <td>-0.975891</td>\n",
              "      <td>-0.980129</td>\n",
              "      <td>0-2</td>\n",
              "      <td>0</td>\n",
              "    </tr>\n",
              "  </tbody>\n",
              "</table>\n",
              "<p>5 rows × 105 columns</p>\n",
              "</div>\n",
              "      <button class=\"colab-df-convert\" onclick=\"convertToInteractive('df-e51e2fb1-b392-46ca-b663-55c4ad11190a')\"\n",
              "              title=\"Convert this dataframe to an interactive table.\"\n",
              "              style=\"display:none;\">\n",
              "        \n",
              "  <svg xmlns=\"http://www.w3.org/2000/svg\" height=\"24px\"viewBox=\"0 0 24 24\"\n",
              "       width=\"24px\">\n",
              "    <path d=\"M0 0h24v24H0V0z\" fill=\"none\"/>\n",
              "    <path d=\"M18.56 5.44l.94 2.06.94-2.06 2.06-.94-2.06-.94-.94-2.06-.94 2.06-2.06.94zm-11 1L8.5 8.5l.94-2.06 2.06-.94-2.06-.94L8.5 2.5l-.94 2.06-2.06.94zm10 10l.94 2.06.94-2.06 2.06-.94-2.06-.94-.94-2.06-.94 2.06-2.06.94z\"/><path d=\"M17.41 7.96l-1.37-1.37c-.4-.4-.92-.59-1.43-.59-.52 0-1.04.2-1.43.59L10.3 9.45l-7.72 7.72c-.78.78-.78 2.05 0 2.83L4 21.41c.39.39.9.59 1.41.59.51 0 1.02-.2 1.41-.59l7.78-7.78 2.81-2.81c.8-.78.8-2.07 0-2.86zM5.41 20L4 18.59l7.72-7.72 1.47 1.35L5.41 20z\"/>\n",
              "  </svg>\n",
              "      </button>\n",
              "      \n",
              "  <style>\n",
              "    .colab-df-container {\n",
              "      display:flex;\n",
              "      flex-wrap:wrap;\n",
              "      gap: 12px;\n",
              "    }\n",
              "\n",
              "    .colab-df-convert {\n",
              "      background-color: #E8F0FE;\n",
              "      border: none;\n",
              "      border-radius: 50%;\n",
              "      cursor: pointer;\n",
              "      display: none;\n",
              "      fill: #1967D2;\n",
              "      height: 32px;\n",
              "      padding: 0 0 0 0;\n",
              "      width: 32px;\n",
              "    }\n",
              "\n",
              "    .colab-df-convert:hover {\n",
              "      background-color: #E2EBFA;\n",
              "      box-shadow: 0px 1px 2px rgba(60, 64, 67, 0.3), 0px 1px 3px 1px rgba(60, 64, 67, 0.15);\n",
              "      fill: #174EA6;\n",
              "    }\n",
              "\n",
              "    [theme=dark] .colab-df-convert {\n",
              "      background-color: #3B4455;\n",
              "      fill: #D2E3FC;\n",
              "    }\n",
              "\n",
              "    [theme=dark] .colab-df-convert:hover {\n",
              "      background-color: #434B5C;\n",
              "      box-shadow: 0px 1px 3px 1px rgba(0, 0, 0, 0.15);\n",
              "      filter: drop-shadow(0px 1px 2px rgba(0, 0, 0, 0.3));\n",
              "      fill: #FFFFFF;\n",
              "    }\n",
              "  </style>\n",
              "\n",
              "      <script>\n",
              "        const buttonEl =\n",
              "          document.querySelector('#df-e51e2fb1-b392-46ca-b663-55c4ad11190a button.colab-df-convert');\n",
              "        buttonEl.style.display =\n",
              "          google.colab.kernel.accessAllowed ? 'block' : 'none';\n",
              "\n",
              "        async function convertToInteractive(key) {\n",
              "          const element = document.querySelector('#df-e51e2fb1-b392-46ca-b663-55c4ad11190a');\n",
              "          const dataTable =\n",
              "            await google.colab.kernel.invokeFunction('convertToInteractive',\n",
              "                                                     [key], {});\n",
              "          if (!dataTable) return;\n",
              "\n",
              "          const docLinkHtml = 'Like what you see? Visit the ' +\n",
              "            '<a target=\"_blank\" href=https://colab.research.google.com/notebooks/data_table.ipynb>data table notebook</a>'\n",
              "            + ' to learn more about interactive tables.';\n",
              "          element.innerHTML = '';\n",
              "          dataTable['output_type'] = 'display_data';\n",
              "          await google.colab.output.renderOutput(dataTable, element);\n",
              "          const docLink = document.createElement('div');\n",
              "          docLink.innerHTML = docLinkHtml;\n",
              "          element.appendChild(docLink);\n",
              "        }\n",
              "      </script>\n",
              "    </div>\n",
              "  </div>\n",
              "  "
            ],
            "text/plain": [
              "   PATIENT_VISIT_IDENTIFIER  AGE_ABOVE65  AGE_PERCENTIL  GENDER  \\\n",
              "0                         0            1              5       0   \n",
              "1                         2            0              0       0   \n",
              "2                         3            0              3       1   \n",
              "3                         4            0              0       0   \n",
              "4                         5            0              0       0   \n",
              "\n",
              "   DISEASE GROUPING 1  DISEASE GROUPING 2  DISEASE GROUPING 3  \\\n",
              "0                 0.0                 0.0                 0.0   \n",
              "1                 0.0                 0.0                 0.0   \n",
              "2                 0.0                 0.0                 0.0   \n",
              "3                 0.0                 0.0                 0.0   \n",
              "4                 0.0                 0.0                 0.0   \n",
              "\n",
              "   DISEASE GROUPING 4  DISEASE GROUPING 5  DISEASE GROUPING 6  ...  \\\n",
              "0                 0.0                 1.0                 1.0  ...   \n",
              "1                 0.0                 0.0                 0.0  ...   \n",
              "2                 0.0                 0.0                 0.0  ...   \n",
              "3                 0.0                 0.0                 0.0  ...   \n",
              "4                 0.0                 0.0                 0.0  ...   \n",
              "\n",
              "   OXYGEN_SATURATION_MAX  HEART_RATE_DIFF  BLOODPRESSURE_DIASTOLIC_DIFF_REL  \\\n",
              "0               0.736842        -1.000000                         -1.000000   \n",
              "1               1.000000        -0.603053                         -0.515528   \n",
              "2               0.684211        -1.000000                         -1.000000   \n",
              "3               0.894737        -0.923664                         -1.000000   \n",
              "4               0.842105        -0.984733                         -0.860870   \n",
              "\n",
              "   BLOODPRESSURE_SISTOLIC_DIFF_REL  HEART_RATE_DIFF_REL  \\\n",
              "0                        -1.000000            -1.000000   \n",
              "1                        -0.351328            -0.747001   \n",
              "2                        -1.000000            -1.000000   \n",
              "3                        -0.883669            -0.956805   \n",
              "4                        -0.714460            -0.986481   \n",
              "\n",
              "   RESPIRATORY_RATE_DIFF_REL  TEMPERATURE_DIFF_REL  \\\n",
              "0                  -1.000000             -1.000000   \n",
              "1                  -0.756272             -1.000000   \n",
              "2                  -1.000000             -1.000000   \n",
              "3                  -0.870968             -0.953536   \n",
              "4                  -1.000000             -0.975891   \n",
              "\n",
              "   OXYGEN_SATURATION_DIFF_REL  WINDOW  ICU  \n",
              "0                   -1.000000     0-2    1  \n",
              "1                   -0.961262     0-2    1  \n",
              "2                   -1.000000     0-2    0  \n",
              "3                   -0.980333     0-2    0  \n",
              "4                   -0.980129     0-2    0  \n",
              "\n",
              "[5 rows x 105 columns]"
            ]
          },
          "metadata": {},
          "execution_count": 4
        }
      ]
    },
    {
      "cell_type": "markdown",
      "source": [
        "## Reproduzindo o Modelo"
      ],
      "metadata": {
        "id": "Y_ifh2CPgle5"
      }
    },
    {
      "cell_type": "markdown",
      "source": [
        ""
      ],
      "metadata": {
        "id": "XoWtGZWogr0i"
      }
    },
    {
      "cell_type": "code",
      "source": [
        ""
      ],
      "metadata": {
        "id": "BaHkm1JQgrjc"
      },
      "execution_count": null,
      "outputs": []
    },
    {
      "cell_type": "markdown",
      "source": [
        "## Avaliando métricas"
      ],
      "metadata": {
        "id": "t7cx09DLgoO-"
      }
    },
    {
      "cell_type": "markdown",
      "source": [
        ""
      ],
      "metadata": {
        "id": "y8cAUYnDgtCa"
      }
    },
    {
      "cell_type": "code",
      "source": [
        ""
      ],
      "metadata": {
        "id": "SumS2DgkgsZ8"
      },
      "execution_count": null,
      "outputs": []
    },
    {
      "cell_type": "markdown",
      "source": [
        "# Conclusões e Extensões"
      ],
      "metadata": {
        "id": "WMQibs6RZ85t"
      }
    },
    {
      "cell_type": "markdown",
      "source": [
        ""
      ],
      "metadata": {
        "id": "MAWrx2JjZ_hl"
      }
    }
  ]
}